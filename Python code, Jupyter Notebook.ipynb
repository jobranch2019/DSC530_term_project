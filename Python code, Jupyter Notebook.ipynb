{
 "cells": [
  {
   "cell_type": "markdown",
   "metadata": {},
   "source": [
    "Jolene Branch DSC530 Data Exploration and Analysis Bellevue University Term Project: Do facilities (with ERs) with larger volume of patients tend to get fibrinolynic (clot busting) therapy administered within 30 minutes of ER/ED arrival better than smaller facilities? Date: February 29, 2020. I used data.medicare.gov - Hospital Compare Datasets > Downloaded CSV Flatfiles > saved as compressed (zip) folder in C\\Users|Branch\\DSC530 EDA\\Hospital_Revised_Flatfiles. I'm using \"Timely and Effective Care - Hospital.\" The data was last updated October 30, 2019. Jupyter folder: DSC530EDA >DSC 530 term project Had to move the Excel workbook I chose into the exact same Directory as the working directory in Jupyter."
   ]
  },
  {
   "cell_type": "markdown",
   "metadata": {},
   "source": [
    "Milestone 1 – Evaluate datasets, start thinking of statistical questions: I initially planned to use the data.medicare.gov dataset called \"Payment and Value of Care - Hospital,\" as I was interested in variables influencing the overall quality ratings of hospitals, but the dataset did not have the required number of variables for this term project. I switched to \"Timely and Effective Care - Hospital,\" which contains more detailed quality metrics. The question I am looking into is \"Do facilities (with ERs) with larger volume of patients tend to get fibrinolynic (clot busting) therapy administered within 30 minutes of ER/ED arrival better than smaller facilities?\"  There are 4586 unique facilities in this dataset.  Each facility has up to 19 measures reported.  Since not all facilities offer all services, there are many 'N/A's in the dataset."
   ]
  },
  {
   "cell_type": "markdown",
   "metadata": {},
   "source": [
    "Import numpy and pandas (so I can make the dataframe in pandas)"
   ]
  },
  {
   "cell_type": "code",
   "execution_count": null,
   "metadata": {},
   "outputs": [],
   "source": [
    "pwd"
   ]
  },
  {
   "cell_type": "code",
   "execution_count": 570,
   "metadata": {},
   "outputs": [],
   "source": [
    "from __future__ import print_function, division           # for future programs!\n",
    "import matplotlib\n",
    "\n",
    "# Needed to show charts in Jupyter:\n",
    "%matplotlib inline                            \n",
    "\n",
    "import thinkstats2\n",
    "import thinkplot\n",
    "import first\n",
    "import nsfg\n",
    "#import matplotlib\n",
    "import matplotlib.pyplot as plt               # so I can add a titles to plots"
   ]
  },
  {
   "cell_type": "code",
   "execution_count": 571,
   "metadata": {
    "scrolled": true
   },
   "outputs": [
    {
     "data": {
      "text/html": [
       "<div>\n",
       "<style scoped>\n",
       "    .dataframe tbody tr th:only-of-type {\n",
       "        vertical-align: middle;\n",
       "    }\n",
       "\n",
       "    .dataframe tbody tr th {\n",
       "        vertical-align: top;\n",
       "    }\n",
       "\n",
       "    .dataframe thead th {\n",
       "        text-align: right;\n",
       "    }\n",
       "</style>\n",
       "<table border=\"1\" class=\"dataframe\">\n",
       "  <thead>\n",
       "    <tr style=\"text-align: right;\">\n",
       "      <th></th>\n",
       "      <th>Facility ID</th>\n",
       "      <th>Facility Name</th>\n",
       "      <th>Address</th>\n",
       "      <th>City</th>\n",
       "      <th>State</th>\n",
       "      <th>ZIP Code</th>\n",
       "      <th>County Name</th>\n",
       "      <th>Phone Number</th>\n",
       "      <th>Condition</th>\n",
       "      <th>Measure ID</th>\n",
       "      <th>Measure Name</th>\n",
       "      <th>Score</th>\n",
       "      <th>Sample</th>\n",
       "      <th>Footnote</th>\n",
       "      <th>Start Date</th>\n",
       "      <th>End Date</th>\n",
       "    </tr>\n",
       "  </thead>\n",
       "  <tbody>\n",
       "    <tr>\n",
       "      <td>0</td>\n",
       "      <td>10001</td>\n",
       "      <td>SOUTHEAST ALABAMA MEDICAL CENTER</td>\n",
       "      <td>1108 ROSS CLARK CIRCLE</td>\n",
       "      <td>DOTHAN</td>\n",
       "      <td>AL</td>\n",
       "      <td>36301</td>\n",
       "      <td>HOUSTON</td>\n",
       "      <td>(334) 793-8701</td>\n",
       "      <td>Emergency Department</td>\n",
       "      <td>EDV</td>\n",
       "      <td>Emergency department volume</td>\n",
       "      <td>high</td>\n",
       "      <td>NaN</td>\n",
       "      <td>NaN</td>\n",
       "      <td>01/01/2017</td>\n",
       "      <td>12/31/2017</td>\n",
       "    </tr>\n",
       "    <tr>\n",
       "      <td>1</td>\n",
       "      <td>10001</td>\n",
       "      <td>SOUTHEAST ALABAMA MEDICAL CENTER</td>\n",
       "      <td>1108 ROSS CLARK CIRCLE</td>\n",
       "      <td>DOTHAN</td>\n",
       "      <td>AL</td>\n",
       "      <td>36301</td>\n",
       "      <td>HOUSTON</td>\n",
       "      <td>(334) 793-8701</td>\n",
       "      <td>Emergency Department</td>\n",
       "      <td>ED_1b</td>\n",
       "      <td>Average (median) time patients spent in the em...</td>\n",
       "      <td>242</td>\n",
       "      <td>615</td>\n",
       "      <td>2</td>\n",
       "      <td>01/01/2018</td>\n",
       "      <td>12/31/2018</td>\n",
       "    </tr>\n",
       "    <tr>\n",
       "      <td>2</td>\n",
       "      <td>10001</td>\n",
       "      <td>SOUTHEAST ALABAMA MEDICAL CENTER</td>\n",
       "      <td>1108 ROSS CLARK CIRCLE</td>\n",
       "      <td>DOTHAN</td>\n",
       "      <td>AL</td>\n",
       "      <td>36301</td>\n",
       "      <td>HOUSTON</td>\n",
       "      <td>(334) 793-8701</td>\n",
       "      <td>Emergency Department</td>\n",
       "      <td>ED_2b</td>\n",
       "      <td>Average (median) time patients spent in the em...</td>\n",
       "      <td>73</td>\n",
       "      <td>615</td>\n",
       "      <td>2</td>\n",
       "      <td>01/01/2018</td>\n",
       "      <td>12/31/2018</td>\n",
       "    </tr>\n",
       "    <tr>\n",
       "      <td>3</td>\n",
       "      <td>10001</td>\n",
       "      <td>SOUTHEAST ALABAMA MEDICAL CENTER</td>\n",
       "      <td>1108 ROSS CLARK CIRCLE</td>\n",
       "      <td>DOTHAN</td>\n",
       "      <td>AL</td>\n",
       "      <td>36301</td>\n",
       "      <td>HOUSTON</td>\n",
       "      <td>(334) 793-8701</td>\n",
       "      <td>Preventive Care</td>\n",
       "      <td>IMM_2</td>\n",
       "      <td>Immunization for influenza</td>\n",
       "      <td>92</td>\n",
       "      <td>538</td>\n",
       "      <td>2</td>\n",
       "      <td>10/01/2017</td>\n",
       "      <td>03/31/2018</td>\n",
       "    </tr>\n",
       "    <tr>\n",
       "      <td>4</td>\n",
       "      <td>10001</td>\n",
       "      <td>SOUTHEAST ALABAMA MEDICAL CENTER</td>\n",
       "      <td>1108 ROSS CLARK CIRCLE</td>\n",
       "      <td>DOTHAN</td>\n",
       "      <td>AL</td>\n",
       "      <td>36301</td>\n",
       "      <td>HOUSTON</td>\n",
       "      <td>(334) 793-8701</td>\n",
       "      <td>Preventive Care</td>\n",
       "      <td>IMM_3</td>\n",
       "      <td>Healthcare workers given influenza vaccination</td>\n",
       "      <td>98</td>\n",
       "      <td>4232</td>\n",
       "      <td>NaN</td>\n",
       "      <td>10/01/2018</td>\n",
       "      <td>03/31/2019</td>\n",
       "    </tr>\n",
       "  </tbody>\n",
       "</table>\n",
       "</div>"
      ],
      "text/plain": [
       "   Facility ID                     Facility Name                 Address  \\\n",
       "0        10001  SOUTHEAST ALABAMA MEDICAL CENTER  1108 ROSS CLARK CIRCLE   \n",
       "1        10001  SOUTHEAST ALABAMA MEDICAL CENTER  1108 ROSS CLARK CIRCLE   \n",
       "2        10001  SOUTHEAST ALABAMA MEDICAL CENTER  1108 ROSS CLARK CIRCLE   \n",
       "3        10001  SOUTHEAST ALABAMA MEDICAL CENTER  1108 ROSS CLARK CIRCLE   \n",
       "4        10001  SOUTHEAST ALABAMA MEDICAL CENTER  1108 ROSS CLARK CIRCLE   \n",
       "\n",
       "     City State  ZIP Code County Name    Phone Number             Condition  \\\n",
       "0  DOTHAN    AL     36301     HOUSTON  (334) 793-8701  Emergency Department   \n",
       "1  DOTHAN    AL     36301     HOUSTON  (334) 793-8701  Emergency Department   \n",
       "2  DOTHAN    AL     36301     HOUSTON  (334) 793-8701  Emergency Department   \n",
       "3  DOTHAN    AL     36301     HOUSTON  (334) 793-8701       Preventive Care   \n",
       "4  DOTHAN    AL     36301     HOUSTON  (334) 793-8701       Preventive Care   \n",
       "\n",
       "  Measure ID                                       Measure Name Score Sample  \\\n",
       "0        EDV                        Emergency department volume  high    NaN   \n",
       "1      ED_1b  Average (median) time patients spent in the em...   242    615   \n",
       "2      ED_2b  Average (median) time patients spent in the em...    73    615   \n",
       "3      IMM_2                         Immunization for influenza    92    538   \n",
       "4      IMM_3     Healthcare workers given influenza vaccination    98   4232   \n",
       "\n",
       "  Footnote  Start Date    End Date  \n",
       "0      NaN  01/01/2017  12/31/2017  \n",
       "1        2  01/01/2018  12/31/2018  \n",
       "2        2  01/01/2018  12/31/2018  \n",
       "3        2  10/01/2017  03/31/2018  \n",
       "4      NaN  10/01/2018  03/31/2019  "
      ]
     },
     "execution_count": 571,
     "metadata": {},
     "output_type": "execute_result"
    }
   ],
   "source": [
    "import numpy as np\n",
    "import pandas as pd\n",
    "import seaborn as sns\n",
    "from pandas import Series, DataFrame     # p 125 of Python for Data Analysis says \"You may also find it easier to import Series and DataFrame into the local namespace since they are so frequently used.\"\n",
    "import csv\n",
    "data = pd.read_csv(\"Timely and Effective Care - Hospital.csv\")       # put in same Directory (C/Users/Branch/Documents/GitHub/ThinkStats2/code) to avoid errors on import\n",
    "data.head()"
   ]
  },
  {
   "cell_type": "code",
   "execution_count": 572,
   "metadata": {},
   "outputs": [
    {
     "data": {
      "text/plain": [
       "RangeIndex(start=0, stop=90383, step=1)"
      ]
     },
     "execution_count": 572,
     "metadata": {},
     "output_type": "execute_result"
    }
   ],
   "source": [
    "data.index             # Don't know that this provided anything useful\n",
    "# Oh, it did.  There are 4587 facilities in this dataframe.  Each has 19 rows for total of 90383 entries."
   ]
  },
  {
   "cell_type": "code",
   "execution_count": null,
   "metadata": {
    "scrolled": true
   },
   "outputs": [],
   "source": [
    "data.info()            # to see if I am really dealing with a dataframe"
   ]
  },
  {
   "cell_type": "code",
   "execution_count": null,
   "metadata": {},
   "outputs": [],
   "source": [
    "data.describe()                # This gave me no new useful information."
   ]
  },
  {
   "cell_type": "markdown",
   "metadata": {},
   "source": [
    "I need to reshape the data. This dataframe is not 'tidy!'  I need to take the column with the measure mnemonics ('Measure ID') and split it so each possible response/measure gets its own column. I also need to make sure the NA cells don't result in dropped rows or columns. I should still have 90,383 entries. No wait! This method took each facility and put all its measures on ONE row, and from the head() results I can see that rows and columns with NAs in them were not dropped. https://www.datacamp.com/community/blog/pandas-cheat-sheet-python\n",
    "While this worked out pretty slick for me, I think the only reason it did was that the EDV (emergency department volume) variable was put in the same 'Measure Name'/'Score' columns as all the actual process measures to begin with.  Otherwise by using this pivot() method, I would have lost that data, as I did with the footnotes, facility name/address, start/end dates..."
   ]
  },
  {
   "cell_type": "code",
   "execution_count": 574,
   "metadata": {
    "scrolled": true
   },
   "outputs": [
    {
     "data": {
      "text/html": [
       "<div>\n",
       "<style scoped>\n",
       "    .dataframe tbody tr th:only-of-type {\n",
       "        vertical-align: middle;\n",
       "    }\n",
       "\n",
       "    .dataframe tbody tr th {\n",
       "        vertical-align: top;\n",
       "    }\n",
       "\n",
       "    .dataframe thead th {\n",
       "        text-align: right;\n",
       "    }\n",
       "</style>\n",
       "<table border=\"1\" class=\"dataframe\">\n",
       "  <thead>\n",
       "    <tr style=\"text-align: right;\">\n",
       "      <th>Measure ID</th>\n",
       "      <th>EDV</th>\n",
       "      <th>ED_1b</th>\n",
       "      <th>ED_2b</th>\n",
       "      <th>IMM_2</th>\n",
       "      <th>IMM_3</th>\n",
       "      <th>OP_18b</th>\n",
       "      <th>OP_18c</th>\n",
       "      <th>OP_2</th>\n",
       "      <th>OP_22</th>\n",
       "      <th>OP_23</th>\n",
       "      <th>OP_29</th>\n",
       "      <th>OP_30</th>\n",
       "      <th>OP_31</th>\n",
       "      <th>OP_33</th>\n",
       "      <th>OP_3b</th>\n",
       "      <th>OP_5</th>\n",
       "      <th>PC_01</th>\n",
       "      <th>SEP_1</th>\n",
       "      <th>VTE_6</th>\n",
       "    </tr>\n",
       "    <tr>\n",
       "      <th>Facility ID</th>\n",
       "      <th></th>\n",
       "      <th></th>\n",
       "      <th></th>\n",
       "      <th></th>\n",
       "      <th></th>\n",
       "      <th></th>\n",
       "      <th></th>\n",
       "      <th></th>\n",
       "      <th></th>\n",
       "      <th></th>\n",
       "      <th></th>\n",
       "      <th></th>\n",
       "      <th></th>\n",
       "      <th></th>\n",
       "      <th></th>\n",
       "      <th></th>\n",
       "      <th></th>\n",
       "      <th></th>\n",
       "      <th></th>\n",
       "    </tr>\n",
       "  </thead>\n",
       "  <tbody>\n",
       "    <tr>\n",
       "      <td>10001</td>\n",
       "      <td>high</td>\n",
       "      <td>242</td>\n",
       "      <td>73</td>\n",
       "      <td>92</td>\n",
       "      <td>98</td>\n",
       "      <td>170</td>\n",
       "      <td>195</td>\n",
       "      <td>Not Available</td>\n",
       "      <td>3</td>\n",
       "      <td>Not Available</td>\n",
       "      <td>74</td>\n",
       "      <td>97</td>\n",
       "      <td>Not Available</td>\n",
       "      <td>Not Available</td>\n",
       "      <td>Not Available</td>\n",
       "      <td>Not Available</td>\n",
       "      <td>3</td>\n",
       "      <td>60</td>\n",
       "      <td>0</td>\n",
       "    </tr>\n",
       "    <tr>\n",
       "      <td>10005</td>\n",
       "      <td>very high</td>\n",
       "      <td>248</td>\n",
       "      <td>75</td>\n",
       "      <td>99</td>\n",
       "      <td>91</td>\n",
       "      <td>113</td>\n",
       "      <td>215</td>\n",
       "      <td>Not Available</td>\n",
       "      <td>2</td>\n",
       "      <td>95</td>\n",
       "      <td>78</td>\n",
       "      <td>96</td>\n",
       "      <td>Not Available</td>\n",
       "      <td>90</td>\n",
       "      <td>53</td>\n",
       "      <td>14</td>\n",
       "      <td>1</td>\n",
       "      <td>68</td>\n",
       "      <td>Not Available</td>\n",
       "    </tr>\n",
       "    <tr>\n",
       "      <td>10006</td>\n",
       "      <td>high</td>\n",
       "      <td>230</td>\n",
       "      <td>70</td>\n",
       "      <td>99</td>\n",
       "      <td>93</td>\n",
       "      <td>146</td>\n",
       "      <td>Not Available</td>\n",
       "      <td>Not Available</td>\n",
       "      <td>1</td>\n",
       "      <td>Not Available</td>\n",
       "      <td>74</td>\n",
       "      <td>85</td>\n",
       "      <td>Not Available</td>\n",
       "      <td>Not Available</td>\n",
       "      <td>Not Available</td>\n",
       "      <td>Not Available</td>\n",
       "      <td>0</td>\n",
       "      <td>30</td>\n",
       "      <td>14</td>\n",
       "    </tr>\n",
       "    <tr>\n",
       "      <td>10007</td>\n",
       "      <td>low</td>\n",
       "      <td>100</td>\n",
       "      <td>65</td>\n",
       "      <td>99</td>\n",
       "      <td>85</td>\n",
       "      <td>108</td>\n",
       "      <td>141</td>\n",
       "      <td>Not Available</td>\n",
       "      <td>3</td>\n",
       "      <td>Not Available</td>\n",
       "      <td>58</td>\n",
       "      <td>0</td>\n",
       "      <td>100</td>\n",
       "      <td>Not Available</td>\n",
       "      <td>Not Available</td>\n",
       "      <td>6</td>\n",
       "      <td>Not Available</td>\n",
       "      <td>89</td>\n",
       "      <td>Not Available</td>\n",
       "    </tr>\n",
       "    <tr>\n",
       "      <td>10008</td>\n",
       "      <td>low</td>\n",
       "      <td>193</td>\n",
       "      <td>78</td>\n",
       "      <td>89</td>\n",
       "      <td>14</td>\n",
       "      <td>87</td>\n",
       "      <td>Not Available</td>\n",
       "      <td>Not Available</td>\n",
       "      <td>0</td>\n",
       "      <td>Not Available</td>\n",
       "      <td>58</td>\n",
       "      <td>50</td>\n",
       "      <td>Not Available</td>\n",
       "      <td>Not Available</td>\n",
       "      <td>Not Available</td>\n",
       "      <td>9</td>\n",
       "      <td>Not Available</td>\n",
       "      <td>29</td>\n",
       "      <td>Not Available</td>\n",
       "    </tr>\n",
       "  </tbody>\n",
       "</table>\n",
       "</div>"
      ],
      "text/plain": [
       "Measure ID         EDV ED_1b ED_2b IMM_2 IMM_3 OP_18b         OP_18c  \\\n",
       "Facility ID                                                            \n",
       "10001             high   242    73    92    98    170            195   \n",
       "10005        very high   248    75    99    91    113            215   \n",
       "10006             high   230    70    99    93    146  Not Available   \n",
       "10007              low   100    65    99    85    108            141   \n",
       "10008              low   193    78    89    14     87  Not Available   \n",
       "\n",
       "Measure ID            OP_2 OP_22          OP_23 OP_29 OP_30          OP_31  \\\n",
       "Facility ID                                                                  \n",
       "10001        Not Available     3  Not Available    74    97  Not Available   \n",
       "10005        Not Available     2             95    78    96  Not Available   \n",
       "10006        Not Available     1  Not Available    74    85  Not Available   \n",
       "10007        Not Available     3  Not Available    58     0            100   \n",
       "10008        Not Available     0  Not Available    58    50  Not Available   \n",
       "\n",
       "Measure ID           OP_33          OP_3b           OP_5          PC_01 SEP_1  \\\n",
       "Facility ID                                                                     \n",
       "10001        Not Available  Not Available  Not Available              3    60   \n",
       "10005                   90             53             14              1    68   \n",
       "10006        Not Available  Not Available  Not Available              0    30   \n",
       "10007        Not Available  Not Available              6  Not Available    89   \n",
       "10008        Not Available  Not Available              9  Not Available    29   \n",
       "\n",
       "Measure ID           VTE_6  \n",
       "Facility ID                 \n",
       "10001                    0  \n",
       "10005        Not Available  \n",
       "10006                   14  \n",
       "10007        Not Available  \n",
       "10008        Not Available  "
      ]
     },
     "execution_count": 574,
     "metadata": {},
     "output_type": "execute_result"
    }
   ],
   "source": [
    "reshaped_df = data.pivot(index ='Facility ID', columns='Measure ID', values = 'Score')\n",
    "reshaped_df.head()\n",
    "# Woo hoo!  Now I am down to one entry per facility!"
   ]
  },
  {
   "cell_type": "markdown",
   "metadata": {},
   "source": [
    "Delete columns I am not interested in. These are preventative health measures that have nothing to do with ER/ED timeliness. Use drop()"
   ]
  },
  {
   "cell_type": "code",
   "execution_count": 575,
   "metadata": {},
   "outputs": [
    {
     "data": {
      "text/html": [
       "<div>\n",
       "<style scoped>\n",
       "    .dataframe tbody tr th:only-of-type {\n",
       "        vertical-align: middle;\n",
       "    }\n",
       "\n",
       "    .dataframe tbody tr th {\n",
       "        vertical-align: top;\n",
       "    }\n",
       "\n",
       "    .dataframe thead th {\n",
       "        text-align: right;\n",
       "    }\n",
       "</style>\n",
       "<table border=\"1\" class=\"dataframe\">\n",
       "  <thead>\n",
       "    <tr style=\"text-align: right;\">\n",
       "      <th>Measure ID</th>\n",
       "      <th>EDV</th>\n",
       "      <th>ED_1b</th>\n",
       "      <th>ED_2b</th>\n",
       "      <th>OP_18b</th>\n",
       "      <th>OP_2</th>\n",
       "      <th>OP_22</th>\n",
       "      <th>OP_23</th>\n",
       "      <th>OP_3b</th>\n",
       "      <th>OP_5</th>\n",
       "    </tr>\n",
       "    <tr>\n",
       "      <th>Facility ID</th>\n",
       "      <th></th>\n",
       "      <th></th>\n",
       "      <th></th>\n",
       "      <th></th>\n",
       "      <th></th>\n",
       "      <th></th>\n",
       "      <th></th>\n",
       "      <th></th>\n",
       "      <th></th>\n",
       "    </tr>\n",
       "  </thead>\n",
       "  <tbody>\n",
       "    <tr>\n",
       "      <td>10001</td>\n",
       "      <td>high</td>\n",
       "      <td>242</td>\n",
       "      <td>73</td>\n",
       "      <td>170</td>\n",
       "      <td>Not Available</td>\n",
       "      <td>3</td>\n",
       "      <td>Not Available</td>\n",
       "      <td>Not Available</td>\n",
       "      <td>Not Available</td>\n",
       "    </tr>\n",
       "    <tr>\n",
       "      <td>10005</td>\n",
       "      <td>very high</td>\n",
       "      <td>248</td>\n",
       "      <td>75</td>\n",
       "      <td>113</td>\n",
       "      <td>Not Available</td>\n",
       "      <td>2</td>\n",
       "      <td>95</td>\n",
       "      <td>53</td>\n",
       "      <td>14</td>\n",
       "    </tr>\n",
       "    <tr>\n",
       "      <td>10006</td>\n",
       "      <td>high</td>\n",
       "      <td>230</td>\n",
       "      <td>70</td>\n",
       "      <td>146</td>\n",
       "      <td>Not Available</td>\n",
       "      <td>1</td>\n",
       "      <td>Not Available</td>\n",
       "      <td>Not Available</td>\n",
       "      <td>Not Available</td>\n",
       "    </tr>\n",
       "    <tr>\n",
       "      <td>10007</td>\n",
       "      <td>low</td>\n",
       "      <td>100</td>\n",
       "      <td>65</td>\n",
       "      <td>108</td>\n",
       "      <td>Not Available</td>\n",
       "      <td>3</td>\n",
       "      <td>Not Available</td>\n",
       "      <td>Not Available</td>\n",
       "      <td>6</td>\n",
       "    </tr>\n",
       "    <tr>\n",
       "      <td>10008</td>\n",
       "      <td>low</td>\n",
       "      <td>193</td>\n",
       "      <td>78</td>\n",
       "      <td>87</td>\n",
       "      <td>Not Available</td>\n",
       "      <td>0</td>\n",
       "      <td>Not Available</td>\n",
       "      <td>Not Available</td>\n",
       "      <td>9</td>\n",
       "    </tr>\n",
       "  </tbody>\n",
       "</table>\n",
       "</div>"
      ],
      "text/plain": [
       "Measure ID         EDV ED_1b ED_2b OP_18b           OP_2 OP_22          OP_23  \\\n",
       "Facility ID                                                                     \n",
       "10001             high   242    73    170  Not Available     3  Not Available   \n",
       "10005        very high   248    75    113  Not Available     2             95   \n",
       "10006             high   230    70    146  Not Available     1  Not Available   \n",
       "10007              low   100    65    108  Not Available     3  Not Available   \n",
       "10008              low   193    78     87  Not Available     0  Not Available   \n",
       "\n",
       "Measure ID           OP_3b           OP_5  \n",
       "Facility ID                                \n",
       "10001        Not Available  Not Available  \n",
       "10005                   53             14  \n",
       "10006        Not Available  Not Available  \n",
       "10007        Not Available              6  \n",
       "10008        Not Available              9  "
      ]
     },
     "execution_count": 575,
     "metadata": {},
     "output_type": "execute_result"
    }
   ],
   "source": [
    "lean_df = reshaped_df.drop(['IMM_2', 'IMM_3', 'OP_18c', 'OP_29', 'OP_30', 'OP_31', 'OP_33', 'PC_01', 'SEP_1', 'VTE_6'], axis=1)\n",
    "lean_df.head()"
   ]
  },
  {
   "cell_type": "markdown",
   "metadata": {},
   "source": [
    "I want to delete all the facilities with 'Not Available' for OP_2 (Outpatients with chest pain or possible heart attack who needed specialized care within 30 minutes of arrival), since that is what I am asking the question about.  This leaves me with a dataset of 83 rows and 9 columns."
   ]
  },
  {
   "cell_type": "code",
   "execution_count": null,
   "metadata": {},
   "outputs": [],
   "source": [
    "# Found this in stackoverflow by asking how to delete all rows based on the value of one column: \n",
    "lean_df[lean_df[\"OP_2\"] != 'Not Available']\n",
    "'''Got this warning and have no idea what it means:  \n",
    "\n",
    "C:\\Users\\Branch\\Anaconda3\\lib\\site-packages\\pandas\\core\\ops\\__init__.py:1115: FutureWarning: elementwise comparison failed; returning scalar instead, but in the future will perform elementwise comparison\n",
    "  result = method(y)'''\n",
    "# But I still have 4757 rows, so I think I'm OK."
   ]
  },
  {
   "cell_type": "markdown",
   "metadata": {},
   "source": [
    "# Milestone 2\n",
    "Select a dataset, solidify your statistical question, begin describing the single variables in your dataset to determine which variables are relevant to your question (Distributions, PMFs, CDFs). You should know your statistical question you are trying to answer by no later than Week 3. "
   ]
  },
  {
   "cell_type": "markdown",
   "metadata": {},
   "source": [
    "My question is \"Do facilities (with ERs) with larger volume of patients tend to get fibrinolynic (clot busting) therapy administered within 30 minutes of ER/ED arrival better than smaller facilities?\"\n",
    "\n",
    "The question as non-medical people might understand it better:  \"If you are having chest pain, are you going to receive treatment quicker if you go to an ER with a high volume of patients or one with a low volume of patients?\""
   ]
  },
  {
   "cell_type": "markdown",
   "metadata": {},
   "source": [
    "Variables to be used:\n",
    "\n",
    "OP-2 Outpatients with chest pain or possible heart attack who got drugs to break up blood clots within 30 minutes of arrival \n",
    "\n",
    "OP-18b Average (median) time patients spent in the emergency department before leaving from the visit\n",
    "\n",
    "OP-23 Percentage of patients who came to emergency department with stroke symptoms who received brain scan results within 45 minutes of arrival \n",
    "\n",
    "OP-3b Average (median) number of minutes before outpatients with chest pain or possible heart attack who needed specialized care were transferred to another hospital\n",
    "\n",
    "OP-5 Average (median) number of minutes before outpatients with chest pain or possible heart attack got an ECG  "
   ]
  },
  {
   "cell_type": "markdown",
   "metadata": {},
   "source": [
    "Need to change all columns containing the quality metrics (except EDV - ED Volume) to numeric in order to put them into histograms and do other calculations with them."
   ]
  },
  {
   "cell_type": "code",
   "execution_count": 577,
   "metadata": {},
   "outputs": [],
   "source": [
    "lean_df['OP_2'] = pd.to_numeric(lean_df['OP_2'], errors='coerce')\n",
    "lean_df['ED_1b'] = pd.to_numeric(lean_df['ED_1b'], errors='coerce')\n",
    "lean_df['ED_2b'] = pd.to_numeric(lean_df['ED_2b'], errors='coerce')\n",
    "lean_df['OP_18b'] = pd.to_numeric(lean_df['OP_18b'], errors='coerce')\n",
    "lean_df['OP_22'] = pd.to_numeric(lean_df['OP_22'], errors='coerce')\n",
    "lean_df['OP_23'] = pd.to_numeric(lean_df['OP_23'], errors='coerce')\n",
    "lean_df['OP_3b'] = pd.to_numeric(lean_df['OP_3b'], errors='coerce')\n",
    "lean_df['OP_5'] = pd.to_numeric(lean_df['OP_5'], errors='coerce')\n",
    "# I probably should have created a function here.  This is not very 'pythonic or 'DRY.'"
   ]
  },
  {
   "cell_type": "code",
   "execution_count": 578,
   "metadata": {},
   "outputs": [
    {
     "data": {
      "text/html": [
       "<div>\n",
       "<style scoped>\n",
       "    .dataframe tbody tr th:only-of-type {\n",
       "        vertical-align: middle;\n",
       "    }\n",
       "\n",
       "    .dataframe tbody tr th {\n",
       "        vertical-align: top;\n",
       "    }\n",
       "\n",
       "    .dataframe thead th {\n",
       "        text-align: right;\n",
       "    }\n",
       "</style>\n",
       "<table border=\"1\" class=\"dataframe\">\n",
       "  <thead>\n",
       "    <tr style=\"text-align: right;\">\n",
       "      <th>Measure ID</th>\n",
       "      <th>EDV</th>\n",
       "      <th>ED_1b</th>\n",
       "      <th>ED_2b</th>\n",
       "      <th>OP_18b</th>\n",
       "      <th>OP_2</th>\n",
       "      <th>OP_22</th>\n",
       "      <th>OP_23</th>\n",
       "      <th>OP_3b</th>\n",
       "      <th>OP_5</th>\n",
       "    </tr>\n",
       "    <tr>\n",
       "      <th>Facility ID</th>\n",
       "      <th></th>\n",
       "      <th></th>\n",
       "      <th></th>\n",
       "      <th></th>\n",
       "      <th></th>\n",
       "      <th></th>\n",
       "      <th></th>\n",
       "      <th></th>\n",
       "      <th></th>\n",
       "    </tr>\n",
       "  </thead>\n",
       "  <tbody>\n",
       "    <tr>\n",
       "      <td>10001</td>\n",
       "      <td>high</td>\n",
       "      <td>242.0</td>\n",
       "      <td>73.0</td>\n",
       "      <td>170.0</td>\n",
       "      <td>NaN</td>\n",
       "      <td>3.0</td>\n",
       "      <td>NaN</td>\n",
       "      <td>NaN</td>\n",
       "      <td>NaN</td>\n",
       "    </tr>\n",
       "    <tr>\n",
       "      <td>10005</td>\n",
       "      <td>very high</td>\n",
       "      <td>248.0</td>\n",
       "      <td>75.0</td>\n",
       "      <td>113.0</td>\n",
       "      <td>NaN</td>\n",
       "      <td>2.0</td>\n",
       "      <td>95.0</td>\n",
       "      <td>53.0</td>\n",
       "      <td>14.0</td>\n",
       "    </tr>\n",
       "    <tr>\n",
       "      <td>10006</td>\n",
       "      <td>high</td>\n",
       "      <td>230.0</td>\n",
       "      <td>70.0</td>\n",
       "      <td>146.0</td>\n",
       "      <td>NaN</td>\n",
       "      <td>1.0</td>\n",
       "      <td>NaN</td>\n",
       "      <td>NaN</td>\n",
       "      <td>NaN</td>\n",
       "    </tr>\n",
       "    <tr>\n",
       "      <td>10007</td>\n",
       "      <td>low</td>\n",
       "      <td>100.0</td>\n",
       "      <td>65.0</td>\n",
       "      <td>108.0</td>\n",
       "      <td>NaN</td>\n",
       "      <td>3.0</td>\n",
       "      <td>NaN</td>\n",
       "      <td>NaN</td>\n",
       "      <td>6.0</td>\n",
       "    </tr>\n",
       "    <tr>\n",
       "      <td>10008</td>\n",
       "      <td>low</td>\n",
       "      <td>193.0</td>\n",
       "      <td>78.0</td>\n",
       "      <td>87.0</td>\n",
       "      <td>NaN</td>\n",
       "      <td>0.0</td>\n",
       "      <td>NaN</td>\n",
       "      <td>NaN</td>\n",
       "      <td>9.0</td>\n",
       "    </tr>\n",
       "  </tbody>\n",
       "</table>\n",
       "</div>"
      ],
      "text/plain": [
       "Measure ID         EDV  ED_1b  ED_2b  OP_18b  OP_2  OP_22  OP_23  OP_3b  OP_5\n",
       "Facility ID                                                                  \n",
       "10001             high  242.0   73.0   170.0   NaN    3.0    NaN    NaN   NaN\n",
       "10005        very high  248.0   75.0   113.0   NaN    2.0   95.0   53.0  14.0\n",
       "10006             high  230.0   70.0   146.0   NaN    1.0    NaN    NaN   NaN\n",
       "10007              low  100.0   65.0   108.0   NaN    3.0    NaN    NaN   6.0\n",
       "10008              low  193.0   78.0    87.0   NaN    0.0    NaN    NaN   9.0"
      ]
     },
     "execution_count": 578,
     "metadata": {},
     "output_type": "execute_result"
    }
   ],
   "source": [
    "lean_df.head()"
   ]
  },
  {
   "cell_type": "code",
   "execution_count": null,
   "metadata": {},
   "outputs": [],
   "source": [
    "lean_df.info()"
   ]
  },
  {
   "cell_type": "markdown",
   "metadata": {},
   "source": [
    "Grouped means (p. 19 in Pandas book)\n",
    "Grouping for each ER volumn category (low, med, high, very high), what was the average ________?"
   ]
  },
  {
   "cell_type": "code",
   "execution_count": 581,
   "metadata": {},
   "outputs": [
    {
     "name": "stdout",
     "output_type": "stream",
     "text": [
      "EDV\n",
      "Not Available    46.500000\n",
      "high             77.166667\n",
      "low              66.851852\n",
      "medium           69.000000\n",
      "very high        54.666667\n",
      "Name: OP_2, dtype: float64\n"
     ]
    }
   ],
   "source": [
    "# need to split the data into parts by ER volume (EDV)\n",
    "# then get whatever measure column I want and calculate the mean (OP_2, OP_18b, ...)\n",
    "print(lean_df.groupby('EDV')['OP_2'].mean())\n",
    "\n",
    "# The mean in this case is the mean of the percent of cases in each level of volume of ER that got the patient 'clotbusters' within 30 miutes.\n",
    "# This is also referred to as \"door to needle time.\""
   ]
  },
  {
   "cell_type": "code",
   "execution_count": null,
   "metadata": {
    "scrolled": true
   },
   "outputs": [],
   "source": [
    "lean_df.EDV.value_counts()\n",
    "# I need to figure out how to get rid of the facilities for which EDV is not available!"
   ]
  },
  {
   "cell_type": "markdown",
   "metadata": {},
   "source": [
    "# Moment of clarity!  Removing all rows that have EDV 'Not Available' "
   ]
  },
  {
   "cell_type": "code",
   "execution_count": null,
   "metadata": {
    "scrolled": true
   },
   "outputs": [],
   "source": [
    "# Delete all rows based on the the value in a column (from StackOverflow) : df[df[\"columnname\"] != 'valueIdonotwant']\n",
    "EDV_df = lean_df[lean_df[\"EDV\"] != 'Not Available']\n",
    "EDV_df.head()"
   ]
  },
  {
   "cell_type": "code",
   "execution_count": null,
   "metadata": {
    "scrolled": false
   },
   "outputs": [],
   "source": [
    "EDV_df.info()\n",
    "# This shows that the 981 facilities that did not have ER volume (EDV) recorded have been removed from the dataset.  \n",
    "#  Ugh.  That means I need to redo ALL of the histograms AGAIN!"
   ]
  },
  {
   "cell_type": "code",
   "execution_count": 585,
   "metadata": {},
   "outputs": [
    {
     "data": {
      "text/plain": [
       "Text(0.5, 1.0, 'Clotbusters Within 30 Minutes')"
      ]
     },
     "execution_count": 585,
     "metadata": {},
     "output_type": "execute_result"
    },
    {
     "data": {
      "image/png": "[encoded data removed]",
      "text/plain": [
       "<Figure size 432x288 with 1 Axes>"
      ]
     },
     "metadata": {
      "needs_background": "light"
     },
     "output_type": "display_data"
    }
   ],
   "source": [
    "# get a true frequency histogram like OP_23 has:\n",
    "OP_2_newhist = EDV_df['OP_2'].plot.hist(bins=30)\n",
    "plt.title(\"Clotbusters Within 30 Minutes\", fontsize=15)"
   ]
  },
  {
   "cell_type": "code",
   "execution_count": 586,
   "metadata": {},
   "outputs": [
    {
     "data": {
      "image/png": "[encoded data removed]",
      "text/plain": [
       "<Figure size 432x288 with 1 Axes>"
      ]
     },
     "metadata": {
      "needs_background": "light"
     },
     "output_type": "display_data"
    },
    {
     "data": {
      "text/plain": [
       "<Figure size 576x432 with 0 Axes>"
      ]
     },
     "metadata": {},
     "output_type": "display_data"
    }
   ],
   "source": [
    "hist_OP_2 = thinkstats2.Hist(EDV_df.OP_2)             \n",
    "\n",
    "plt.title(\"'Clotbusters' Within 30 Minutes for Heart Attack or Chest Pain\", fontsize=15)\n",
    "plt.hist(x=hist_OP_2, width=7, bins=10)       # used instead of thinkplot.Hist(...) so I could adjust the bin size\n",
    "thinkplot.Show(xlabel='% of patients at facility receiving timely therapy', ylabel='frequency')\n",
    "# This might be confusing.  I think it is the frequency of number of hospitals with that average % of patients receving the therapy on time."
   ]
  },
  {
   "cell_type": "code",
   "execution_count": 587,
   "metadata": {
    "scrolled": true
   },
   "outputs": [
    {
     "name": "stdout",
     "output_type": "stream",
     "text": [
      "Mean is 68.96296296296296\n",
      "Mode is 0    82.0\n",
      "dtype: float64\n",
      "Standard deviation is 20.351562866549372\n",
      "The tail extends farther to the left than right.  Results are not normally distributed.  There appears to be a cluster of facilities that get the clotbusting medication administered on time around 55% of the time, and another cluster of facilities that get the medication administered on time around 80% of the time.  I do not know if the cluster around 55% is enough to call this a bimodal distribution.\n"
     ]
    }
   ],
   "source": [
    "mean_OP_2 = EDV_df.OP_2.mean()\n",
    "print('Mean is', mean_OP_2)\n",
    "\n",
    "mode_OP_2 = EDV_df.OP_2.mode()\n",
    "print('Mode is', mode_OP_2)\n",
    "\n",
    "std_OP_2 = EDV_df.OP_2.std()\n",
    "print('Standard deviation is', std_OP_2)\n",
    "\n",
    "print('The tail extends farther to the left than right.  Results are not normally distributed.  There appears to be a cluster of facilities that get the clotbusting medication administered on time around 55% of the time, and another cluster of facilities that get the medication administered on time around 80% of the time.  I do not know if the cluster around 55% is enough to call this a bimodal distribution.')"
   ]
  },
  {
   "cell_type": "markdown",
   "metadata": {},
   "source": [
    "Interesting: p. 17 in text says \"When the argument passed to Hist is a pandas Series, any nan values are dropped.\" I wonder if that means I didn't need to figure out how to delete all the rows in which the OP_2 column was blank?! Interesting that this histogram has the tail to the left and most of the others are to the right. What I've lost on here is the volume of the facilities. A color-coded scatter plot in R would be much better. I think this is accurate, though. 1/18 20:07."
   ]
  },
  {
   "cell_type": "code",
   "execution_count": 588,
   "metadata": {},
   "outputs": [
    {
     "name": "stdout",
     "output_type": "stream",
     "text": [
      "EDV\n",
      "high         77.166667\n",
      "low          66.851852\n",
      "medium       69.000000\n",
      "very high    54.666667\n",
      "Name: OP_2, dtype: float64\n"
     ]
    }
   ],
   "source": [
    "# Grouping for each ER volumn category (low, med, high, very high), what was the average ________?\n",
    "# need to split the data into parts by ER volume (EDV)\n",
    "# then get whatever measure column I want and calculate the mean (OP_2, OP_18b, ...)\n",
    "print(EDV_df.groupby('EDV')['OP_2'].mean())"
   ]
  },
  {
   "cell_type": "code",
   "execution_count": 589,
   "metadata": {},
   "outputs": [
    {
     "data": {
      "image/png": "[encoded data removed]",
      "text/plain": [
       "<Figure size 432x288 with 1 Axes>"
      ]
     },
     "metadata": {
      "needs_background": "light"
     },
     "output_type": "display_data"
    },
    {
     "data": {
      "text/plain": [
       "<Figure size 576x432 with 0 Axes>"
      ]
     },
     "metadata": {},
     "output_type": "display_data"
    }
   ],
   "source": [
    "#using same CDFs code as worked for 18b:\n",
    "low_cdf_OP_2 = thinkstats2.Cdf(low.EDV, label='low')\n",
    "medium_cdf_OP_2 = thinkstats2.Cdf(medium.EDV, label='medium')\n",
    "high_cdf_OP_2 = thinkstats2.Cdf(high.EDV, label='high')\n",
    "very_high_cdf_OP_2 = thinkstats2.Cdf(very_high.EDV, label='very high')\n",
    "\n",
    "# I want to make a CDF of OP_2 that includes all four ED volumes:  (from p. 44)\n",
    "low_cdf_OP_2 = thinkstats2.Cdf(low.OP_2, label = 'low')\n",
    "medium_cdf_OP_2 = thinkstats2.Cdf(medium.OP_2, label = 'medium')\n",
    "high_cdf_OP_2 = thinkstats2.Cdf(high.OP_2, label = 'high')\n",
    "very_high_cdf_OP_2 = thinkstats2.Cdf(very_high.OP_2, label = 'very high')\n",
    "thinkplot.PrePlot(4)\n",
    "thinkplot.Cdfs([low_cdf_OP_2, medium_cdf_OP_2, high_cdf_OP_2, very_high_cdf_OP_2])\n",
    "thinkplot.Show(xlabel='% of patients at facility receiving timely therapy', ylabel='CDF')\n",
    "\n",
    "# I don't think this is the intention of this chart!\n",
    "# Probably don't use it.  Might be something to do with the fact that the x axis was already a percentage?"
   ]
  },
  {
   "cell_type": "code",
   "execution_count": 590,
   "metadata": {
    "scrolled": true
   },
   "outputs": [
    {
     "data": {
      "image/png": "[encoded data removed]",
      "text/plain": [
       "<Figure size 432x288 with 1 Axes>"
      ]
     },
     "metadata": {
      "needs_background": "light"
     },
     "output_type": "display_data"
    },
    {
     "data": {
      "text/plain": [
       "<Figure size 576x432 with 0 Axes>"
      ]
     },
     "metadata": {},
     "output_type": "display_data"
    }
   ],
   "source": [
    "hist_OP_18b = thinkstats2.Hist(EDV_df.OP_18b)\n",
    "\n",
    "plt.title(\"Median Time Facilities' Patients Spend in ER\", fontsize=15)\n",
    "plt.hist(x=hist_OP_18b, width=30, bins=8)\n",
    "thinkplot.Show(xlabel='minutes', ylabel='frequency')\n",
    "\n",
    "# the y axis 'frequency' is really the count of facilities whose average time was in that particular x axis bin."
   ]
  },
  {
   "cell_type": "code",
   "execution_count": 591,
   "metadata": {},
   "outputs": [
    {
     "name": "stdout",
     "output_type": "stream",
     "text": [
      "Mean is 142.97568881685575\n",
      "Mode is 0    122.0\n",
      "dtype: float64\n",
      "Standard deviation is 41.68990338571912\n",
      "The tail extends farther to the right than left, with a sudden drop at about the 250 minute mark.  This might reflect a practice of ERs to move patients through in under 4 hours.\n"
     ]
    }
   ],
   "source": [
    "mean_OP_18b = EDV_df.OP_18b.mean()\n",
    "print('Mean is', mean_OP_18b)\n",
    "\n",
    "mode_OP_18b = EDV_df.OP_18b.mode()\n",
    "print('Mode is', mode_OP_18b)\n",
    "\n",
    "std_OP_18b = EDV_df.OP_18b.std()\n",
    "print('Standard deviation is', std_OP_18b)\n",
    "\n",
    "print('The tail extends farther to the right than left, with a sudden drop at about the 250 minute mark.  This might reflect a practice of ERs to move patients through in under 4 hours.')"
   ]
  },
  {
   "cell_type": "code",
   "execution_count": 592,
   "metadata": {
    "scrolled": true
   },
   "outputs": [
    {
     "name": "stdout",
     "output_type": "stream",
     "text": [
      "EDV\n",
      "high         165.813223\n",
      "low          114.461432\n",
      "medium       146.367876\n",
      "very high    177.523810\n",
      "Name: OP_18b, dtype: float64\n"
     ]
    }
   ],
   "source": [
    "print(EDV_df.groupby('EDV')['OP_18b'].mean())"
   ]
  },
  {
   "cell_type": "code",
   "execution_count": null,
   "metadata": {
    "scrolled": true
   },
   "outputs": [],
   "source": [
    "EDV_df.info()"
   ]
  },
  {
   "cell_type": "code",
   "execution_count": 594,
   "metadata": {
    "scrolled": true
   },
   "outputs": [
    {
     "data": {
      "image/png": "[encoded data removed]",
      "text/plain": [
       "<Figure size 432x288 with 1 Axes>"
      ]
     },
     "metadata": {
      "needs_background": "light"
     },
     "output_type": "display_data"
    }
   ],
   "source": [
    "# not sure if it is a true PMF.  I didn't use that function!  And it only shows two volumes.\n",
    "\n",
    "low = EDV_df[EDV_df.EDV == 'low']\n",
    "medium = EDV_df[EDV_df.EDV == 'medium']\n",
    "high = EDV_df[EDV_df.EDV == 'high']\n",
    "very_high = EDV_df[EDV_df.EDV == \"very high\"]\n",
    "low_hist = thinkstats2.Hist(low.OP_18b)\n",
    "medium_hist = thinkstats2.Hist(medium.OP_18b)\n",
    "width = 0.3\n",
    "thinkplot.PrePlot(2)\n",
    "thinkplot.Hist(low_hist, align='right', width=width)\n",
    "thinkplot.Hist(medium_hist, align='left', width=width)\n",
    "thinkplot.Config(xlabel='minutes', ylabel ='PMF')\n",
    "\n",
    "#  Add a title and use as a PMF.\n",
    "#  Try and add a legend.  I couldn't figure it out."
   ]
  },
  {
   "cell_type": "code",
   "execution_count": 595,
   "metadata": {},
   "outputs": [
    {
     "data": {
      "image/png": "[encoded data removed]",
      "text/plain": [
       "<Figure size 432x288 with 1 Axes>"
      ]
     },
     "metadata": {
      "needs_background": "light"
     },
     "output_type": "display_data"
    },
    {
     "data": {
      "text/plain": [
       "<Figure size 576x432 with 0 Axes>"
      ]
     },
     "metadata": {},
     "output_type": "display_data"
    }
   ],
   "source": [
    "# CDF of total minutes spent in ER\n",
    "\n",
    "cdf_OP_18b = thinkstats2.Cdf(EDV_df.OP_18b, label = 'OP_18b')\n",
    "\n",
    "thinkplot.Cdf(cdf_OP_18b)\n",
    "thinkplot.Show(xlabel='minutes (in ER)', ylabel='CDF')\n",
    "\n",
    "# This is GREAT!  But I still want to split it apart by ED volumes."
   ]
  },
  {
   "cell_type": "code",
   "execution_count": 596,
   "metadata": {},
   "outputs": [
    {
     "data": {
      "image/png": "[encoded data removed]",
      "text/plain": [
       "<Figure size 432x288 with 1 Axes>"
      ]
     },
     "metadata": {
      "needs_background": "light"
     },
     "output_type": "display_data"
    },
    {
     "data": {
      "text/plain": [
       "<Figure size 576x432 with 0 Axes>"
      ]
     },
     "metadata": {},
     "output_type": "display_data"
    }
   ],
   "source": [
    "# First I define low, medium, high, and very high - How does it know which dataframe to use??????????????\n",
    "low_cdf_OP_18b = thinkstats2.Cdf(low.EDV, label='low')\n",
    "medium_cdf_OP_18b = thinkstats2.Cdf(medium.EDV, label='medium')\n",
    "high_cdf_OP_18b = thinkstats2.Cdf(high.EDV, label='high')\n",
    "very_high_cdf_OP_18b = thinkstats2.Cdf(very_high.EDV, label='very high')\n",
    "\n",
    "# I want to make a CDF of OP_18b that includes all four ED volumes:  (from p. 44)\n",
    "low_cdf_OP_18b = thinkstats2.Cdf(low.OP_18b, label = 'low')\n",
    "medium_cdf_OP_18b = thinkstats2.Cdf(medium.OP_18b, label = 'medium')\n",
    "high_cdf_OP_18b = thinkstats2.Cdf(high.OP_18b, label = 'high')\n",
    "very_high_cdf_OP_18b = thinkstats2.Cdf(very_high.OP_18b, label = 'very high')\n",
    "thinkplot.PrePlot(4)\n",
    "thinkplot.Cdfs([low_cdf_OP_18b, medium_cdf_OP_18b, high_cdf_OP_18b, very_high_cdf_OP_18b])\n",
    "thinkplot.Show(xlabel='time spent in ER (min)', ylabel='CDF')"
   ]
  },
  {
   "cell_type": "markdown",
   "metadata": {},
   "source": [
    "The CDF of time spent in the ER shows that people spend less time in a low volume ER.  Is this due to low volume ERs' efficiency or their tendency to have to transfer more people out of the facility due to lack of specialty care associated with smaller facilities.  BUT, then look at the CDFs for OP_3.  If you don't get transferred out of the low volume ER within the first 60 minutes, you are going to be sitting there longer.  (Interview of experienced ER RN Andrea Ducklow on 2/21/2020 revealed that low volume ERs are more likely to be connected to smaller hospitals (without all the treatment modalities available at larger hospitals), and are therefore more likely to require transfer out.  Low volume ERs are also more likely to be located in rural areas, so inability to safely provide emergency transport in a timely manner is more likely to occur (due to weather conditions and reliance on emergency transport of the receiving facility at times)."
   ]
  },
  {
   "cell_type": "code",
   "execution_count": 628,
   "metadata": {
    "scrolled": true
   },
   "outputs": [
    {
     "data": {
      "image/png": "[encoded data removed]",
      "text/plain": [
       "<Figure size 432x288 with 1 Axes>"
      ]
     },
     "metadata": {
      "needs_background": "light"
     },
     "output_type": "display_data"
    },
    {
     "data": {
      "text/plain": [
       "<Figure size 576x432 with 0 Axes>"
      ]
     },
     "metadata": {},
     "output_type": "display_data"
    }
   ],
   "source": [
    "hist_OP_23 = thinkstats2.Hist(EDV_df.OP_23)             \n",
    "plt.title(\"Facilities' Head CT Results Within 45 Minutes\", fontsize=15)\n",
    "plt.hist(x=hist_OP_23, width=7, bins=10)       # used instead of thinkplot.Hist(...) so I could adjust the bin size\n",
    "thinkplot.Show(xlabel='% of patients at facility receiving timely therapy', ylabel='frequency')\n",
    "# Seems strange how evenly distributed these results are."
   ]
  },
  {
   "cell_type": "code",
   "execution_count": 629,
   "metadata": {},
   "outputs": [
    {
     "name": "stdout",
     "output_type": "stream",
     "text": [
      "Mean is 73.75095541401274\n",
      "Mode is 0    100.0\n",
      "dtype: float64\n",
      "Standard deviation is 18.57168125209887\n",
      "The tail extends farther to the left than right.  There is a concentration to the left of the mean.  It appears that the processes of many facilities are designed to get this task accomplished on time between 65 and 90% of the time.\n"
     ]
    }
   ],
   "source": [
    "mean_OP_23 = EDV_df.OP_23.mean()\n",
    "print('Mean is', mean_OP_23)\n",
    "\n",
    "mode_OP_23 = EDV_df.OP_23.mode()\n",
    "print('Mode is', mode_OP_23)\n",
    "\n",
    "std_OP_23 = EDV_df.OP_23.std()\n",
    "print('Standard deviation is', std_OP_23)\n",
    "\n",
    "print('The tail extends farther to the left than right.  There is a concentration to the left of the mean.  It appears that the processes of many facilities are designed to get this task accomplished on time between 65 and 90% of the time.')\n"
   ]
  },
  {
   "cell_type": "markdown",
   "metadata": {},
   "source": [
    "One thing to note about this EBP measure; The scores are not prorated. If your CT was done 46 minutes after presentation, your instance counts as a zero. It is all or nothing. Perhaps the facilities that are unable to perform a CT scan on patients who present with stroke-like symptoms should not even be attempting to do so. If their track record is that poor, they should immediately send the patient to a higher level acuity facility (as long as that facility does better at this measure)."
   ]
  },
  {
   "cell_type": "code",
   "execution_count": 630,
   "metadata": {
    "scrolled": true
   },
   "outputs": [
    {
     "data": {
      "text/plain": [
       "Text(0.5, 1.0, \"Facilities' Head CT Results Within 45 Minutes\")"
      ]
     },
     "execution_count": 630,
     "metadata": {},
     "output_type": "execute_result"
    },
    {
     "data": {
      "image/png": "[encoded data removed]",
      "text/plain": [
       "<Figure size 432x288 with 1 Axes>"
      ]
     },
     "metadata": {
      "needs_background": "light"
     },
     "output_type": "display_data"
    }
   ],
   "source": [
    "EDV_df['OP_23'].plot.hist(bins=30)\n",
    "plt.title(\"Facilities' Head CT Results Within 45 Minutes\", fontsize=15)\n",
    "# % of patients who came to the ED with stroke symptoms who received brain scan results within 45 minutes of arrival \n",
    "# 81 facilities got this right 100% of the time (for 1354 patients)!  One or two facilities got this right 0% of the time (for 88 patients).\n",
    "# What I want the x-axis to say is \"% of patients at facility receiving timely results\"\n",
    "# I think it takes how much (%) of the time, on average, that each facility gets the CT results within 45 minutes, then\n",
    "# Puts the count of facilities as the frequency on the y axis, based on how many are in each 'bin' on the x axis.\n",
    "# Why does this chart look SO different than the one above it (using the book's way of doing histograms?)"
   ]
  },
  {
   "cell_type": "code",
   "execution_count": 603,
   "metadata": {},
   "outputs": [
    {
     "name": "stdout",
     "output_type": "stream",
     "text": [
      "EDV\n",
      "high         76.190736\n",
      "low          69.321285\n",
      "medium       75.925725\n",
      "very high    71.281095\n",
      "Name: OP_23, dtype: float64\n"
     ]
    }
   ],
   "source": [
    "print(EDV_df.groupby('EDV')['OP_23'].mean())"
   ]
  },
  {
   "cell_type": "code",
   "execution_count": 631,
   "metadata": {},
   "outputs": [
    {
     "data": {
      "image/png": "[encoded data removed]",
      "text/plain": [
       "<Figure size 432x288 with 1 Axes>"
      ]
     },
     "metadata": {
      "needs_background": "light"
     },
     "output_type": "display_data"
    },
    {
     "data": {
      "text/plain": [
       "<Figure size 576x432 with 0 Axes>"
      ]
     },
     "metadata": {},
     "output_type": "display_data"
    }
   ],
   "source": [
    "low_cdf_OP23 = thinkstats2.Cdf(low.EDV, label='low')\n",
    "medium_cdf_OP23 = thinkstats2.Cdf(medium.EDV, label='medium')\n",
    "high_cdf_OP23 = thinkstats2.Cdf(high.EDV, label='high')\n",
    "very_high_cdf_OP23 = thinkstats2.Cdf(very_high.EDV, label='very high')\n",
    "\n",
    "# I want to make a CDF of OP_18b that includes all four ED volumes:  (from p. 44)\n",
    "low_cdf_OP23 = thinkstats2.Cdf(low.OP_23, label = 'low')\n",
    "medium_cdf_OP23 = thinkstats2.Cdf(medium.OP_23, label = 'medium')\n",
    "high_cdf_OP23 = thinkstats2.Cdf(high.OP_23, label = 'high')\n",
    "very_high_cdf_OP23 = thinkstats2.Cdf(very_high.OP_23, label = 'very high')\n",
    "thinkplot.PrePlot(4)\n",
    "thinkplot.Cdfs([low_cdf_OP23, medium_cdf_OP23, high_cdf_OP23, very_high_cdf_OP23])\n",
    "thinkplot.Show(xlabel='% of stroke patients w/ brain scan within 45 minutes', ylabel='CDF')\n",
    "\n",
    "# I don't think this chart works for this metric."
   ]
  },
  {
   "cell_type": "code",
   "execution_count": 632,
   "metadata": {},
   "outputs": [
    {
     "data": {
      "text/plain": [
       "Text(0.5, 1.0, 'Average (Median) Time to Transfer Chest Pain & Heart Attack Patients')"
      ]
     },
     "execution_count": 632,
     "metadata": {},
     "output_type": "execute_result"
    },
    {
     "data": {
      "image/png": "[encoded data removed]",
      "text/plain": [
       "<Figure size 432x288 with 1 Axes>"
      ]
     },
     "metadata": {
      "needs_background": "light"
     },
     "output_type": "display_data"
    }
   ],
   "source": [
    "# seeing if I can get a true frequency histogram like OP_23 has:\n",
    "OP_3b_newhist = EDV_df['OP_3b'].plot.hist(bins=30)\n",
    "plt.title(\"Average (Median) Time to Transfer Chest Pain & Heart Attack Patients\", fontsize=15)\n",
    "# the y axis 'frequency' is really the count of facilities whose average time was in that particular x axis bin."
   ]
  },
  {
   "cell_type": "code",
   "execution_count": 633,
   "metadata": {
    "scrolled": true
   },
   "outputs": [
    {
     "data": {
      "image/png": "[encoded data removed]",
      "text/plain": [
       "<Figure size 432x288 with 1 Axes>"
      ]
     },
     "metadata": {
      "needs_background": "light"
     },
     "output_type": "display_data"
    },
    {
     "data": {
      "text/plain": [
       "<Figure size 576x432 with 0 Axes>"
      ]
     },
     "metadata": {},
     "output_type": "display_data"
    }
   ],
   "source": [
    "hist_OP_3b = thinkstats2.Hist(EDV_df.OP_3b)\n",
    "plt.title('Median Time to Transfer Chest Pain & Heart Attack Patients', fontsize=15)\n",
    "\n",
    "plt.hist(x=hist_OP_3b, width=20, bins=15)\n",
    "thinkplot.Show(xlabel='minutes', ylabel='frequency')"
   ]
  },
  {
   "cell_type": "code",
   "execution_count": 607,
   "metadata": {
    "scrolled": true
   },
   "outputs": [
    {
     "name": "stdout",
     "output_type": "stream",
     "text": [
      "Mean is 63.19686800894855\n",
      "Mode is 0    52.0\n",
      "dtype: float64\n",
      "Standard deviation is 39.28887711055245\n",
      "The tail extends farther to the right than left, with a sudden drop at about the 85-90 minute mark.  This suggests a practice or goal of getting patients out in under 90 minutes.\n"
     ]
    }
   ],
   "source": [
    "mean_OP_3b = EDV_df.OP_3b.mean()\n",
    "print('Mean is', mean_OP_3b)\n",
    "\n",
    "mode_OP_3b = EDV_df.OP_3b.mode()\n",
    "print('Mode is', mode_OP_3b)\n",
    "\n",
    "std_OP_3b = EDV_df.OP_3b.std()\n",
    "print('Standard deviation is', std_OP_3b)\n",
    "      \n",
    "print('The tail extends farther to the right than left, with a sudden drop at about the 85-90 minute mark.  This suggests a practice or goal of getting patients out in under 90 minutes.')"
   ]
  },
  {
   "cell_type": "code",
   "execution_count": 608,
   "metadata": {
    "scrolled": true
   },
   "outputs": [
    {
     "name": "stdout",
     "output_type": "stream",
     "text": [
      "EDV\n",
      "high         59.976471\n",
      "low          73.634409\n",
      "medium       60.930876\n",
      "very high    59.250000\n",
      "Name: OP_3b, dtype: float64\n"
     ]
    }
   ],
   "source": [
    "print(EDV_df.groupby('EDV')['OP_3b'].mean())"
   ]
  },
  {
   "cell_type": "code",
   "execution_count": 634,
   "metadata": {},
   "outputs": [
    {
     "data": {
      "image/png": "[encoded data removed]",
      "text/plain": [
       "<Figure size 432x288 with 1 Axes>"
      ]
     },
     "metadata": {
      "needs_background": "light"
     },
     "output_type": "display_data"
    },
    {
     "data": {
      "text/plain": [
       "<Figure size 576x432 with 0 Axes>"
      ]
     },
     "metadata": {},
     "output_type": "display_data"
    }
   ],
   "source": [
    "low_cdf_OP_3b = thinkstats2.Cdf(low.EDV, label='low')\n",
    "medium_cdf_OP_3b = thinkstats2.Cdf(medium.EDV, label='medium')\n",
    "high_cdf_OP_3b = thinkstats2.Cdf(high.EDV, label='high')\n",
    "very_high_cdf_OP_3b = thinkstats2.Cdf(very_high.EDV, label='very high')\n",
    "\n",
    "# I want to make a CDF of OP_18b that includes all four ED volumes:  (from p. 44)\n",
    "low_cdf_OP_3b = thinkstats2.Cdf(low.OP_3b, label = 'low')\n",
    "medium_cdf_OP_3b = thinkstats2.Cdf(medium.OP_3b, label = 'medium')\n",
    "high_cdf_OP_3b = thinkstats2.Cdf(high.OP_3b, label = 'high')\n",
    "very_high_cdf_OP_3b = thinkstats2.Cdf(very_high.OP_3b, label = 'very high')\n",
    "thinkplot.PrePlot(4)\n",
    "thinkplot.Cdfs([low_cdf_OP_3b, medium_cdf_OP_3b, high_cdf_OP_3b, very_high_cdf_OP_3b])\n",
    "thinkplot.Show(xlabel='minutes (to transfer out of ER)', ylabel='CDF')\n",
    "\n",
    "# It looks like if you don't get transferred out of an ER within the first 60 minutes, your transfer is going to be even\n",
    "# more delayed if you are at a low volume ER."
   ]
  },
  {
   "cell_type": "code",
   "execution_count": 635,
   "metadata": {},
   "outputs": [
    {
     "data": {
      "text/plain": [
       "Text(0.5, 1.0, 'Median Time to ECG in Minutes')"
      ]
     },
     "execution_count": 635,
     "metadata": {},
     "output_type": "execute_result"
    },
    {
     "data": {
      "image/png": "[encoded data removed]",
      "text/plain": [
       "<Figure size 432x288 with 1 Axes>"
      ]
     },
     "metadata": {
      "needs_background": "light"
     },
     "output_type": "display_data"
    }
   ],
   "source": [
    "# seeing if I can get a true frequency histogram like OP_23 has:\n",
    "EDV_df['OP_5'].plot.hist(bins=30)\n",
    "plt.title(\"Median Time to ECG in Minutes\", fontsize=15)"
   ]
  },
  {
   "cell_type": "code",
   "execution_count": 636,
   "metadata": {
    "scrolled": true
   },
   "outputs": [
    {
     "data": {
      "image/png": "[encoded data removed]",
      "text/plain": [
       "<Figure size 432x288 with 1 Axes>"
      ]
     },
     "metadata": {
      "needs_background": "light"
     },
     "output_type": "display_data"
    },
    {
     "data": {
      "text/plain": [
       "<Figure size 576x432 with 0 Axes>"
      ]
     },
     "metadata": {},
     "output_type": "display_data"
    }
   ],
   "source": [
    "hist_OP_5 = thinkstats2.Hist(EDV_df.OP_5)\n",
    "thinkplot.Hist(hist_OP_5)\n",
    "plt.title('Median Time to ECG', fontsize=15)\n",
    "thinkplot.Show(xlabel='minutes', ylabel='count of facilities')"
   ]
  },
  {
   "cell_type": "code",
   "execution_count": 612,
   "metadata": {
    "scrolled": true
   },
   "outputs": [
    {
     "name": "stdout",
     "output_type": "stream",
     "text": [
      "Mean is 8.083722741433021\n",
      "Mode is 0    8.0\n",
      "dtype: float64\n",
      "Standard deviation is 4.636578185409626\n",
      "The mean and the mode are almost the same.  The data is approximately normally distributed.  The tail does extend farther to the right, with three (way) outliers, which would benefit from facility-level drill down or root cause analysis.  Remember that the data for each facility is the median number of minutes for that facility.  I need to remove the three outlier facilities and replot the data.\n"
     ]
    }
   ],
   "source": [
    "mean_OP_5 = EDV_df.OP_5.mean()\n",
    "print('Mean is', mean_OP_5)\n",
    "\n",
    "mode_OP_5 = EDV_df.OP_5.mode()\n",
    "print('Mode is', mode_OP_5)\n",
    "\n",
    "std_OP_5 = EDV_df.OP_5.std()\n",
    "print('Standard deviation is', std_OP_5)\n",
    "      \n",
    "print('The mean and the mode are almost the same.  The data is approximately normally distributed.  The tail does extend farther to the right, with three (way) outliers, which would benefit from facility-level drill down or root cause analysis.  Remember that the data for each facility is the median number of minutes for that facility.  I need to remove the three outlier facilities and replot the data.')"
   ]
  },
  {
   "cell_type": "code",
   "execution_count": null,
   "metadata": {
    "scrolled": false
   },
   "outputs": [],
   "source": [
    "print(EDV_df.groupby('EDV')['OP_5'].mean())\n",
    "# The facilities, when subsetted by ED volume, have nearly identical mean time to ECG (in minutes)."
   ]
  },
  {
   "cell_type": "code",
   "execution_count": 614,
   "metadata": {},
   "outputs": [
    {
     "data": {
      "image/png": "[encoded data removed]",
      "text/plain": [
       "<Figure size 432x288 with 1 Axes>"
      ]
     },
     "metadata": {
      "needs_background": "light"
     },
     "output_type": "display_data"
    },
    {
     "data": {
      "text/plain": [
       "<Figure size 576x432 with 0 Axes>"
      ]
     },
     "metadata": {},
     "output_type": "display_data"
    }
   ],
   "source": [
    "# Try and remove the outliers > 40 minutes.  Looks like there are three of them.  Use p. 20 in text to start, maybe.\n",
    "OP_5_trimmed = EDV_df[EDV_df.OP_5 > 40]\n",
    "OP_5_trimmed_hist = thinkstats2.Hist(OP_5_trimmed.OP_5)\n",
    "plt.hist(x=OP_5_trimmed_hist)\n",
    "plt.title('Median Time to ECG: Outlier Facilities', fontsize=15)\n",
    "thinkplot.Show(xlabel='minutes', ylabel='count of facilities')\n",
    "# Aha!  So there was one facility with median time of 47 minutes, one at 53 minutes, and one at 58 minutes.  I wonder if their n was 1?\n",
    "# That all three outlier facilities had medians just under one hour makes me wonder if one hour is some sort of 'trigger' metric - meaning that if your median time is one hour or more, your facility is no longer approved to accept Medicare (and basically has to close its doors)?"
   ]
  },
  {
   "cell_type": "code",
   "execution_count": null,
   "metadata": {},
   "outputs": [],
   "source": [
    "# What if I tried to remove all rows with at least one outlier (using standard deviation of 3) from OP_5 in the dataframe?\n",
    "# Idea is from https://stackoverflow.com/questions/23199796/detect-and-exclude-outliers-in-pandas-data-frame\n",
    "# Except it took some results that I would not consider outliers. I had to up it to standard deviation of 6 to only get rid of the 3 outliers above 40 minutes.  Ugly!\n",
    "df_nooutliers = EDV_df[((EDV_df.OP_5 - EDV_df.OP_5.mean()) / EDV_df.OP_5.std()).abs() <6]\n",
    "df_nooutliers.head()\n",
    "# Should rerun all previous histograms using df_new as the dataframe?  Otherwise will the correlations be messed up?\n",
    "# I don't think we've covered six sigma yet in this program!"
   ]
  },
  {
   "cell_type": "code",
   "execution_count": 616,
   "metadata": {
    "scrolled": true
   },
   "outputs": [
    {
     "data": {
      "image/png": "[encoded data removed]",
      "text/plain": [
       "<Figure size 432x288 with 1 Axes>"
      ]
     },
     "metadata": {
      "needs_background": "light"
     },
     "output_type": "display_data"
    },
    {
     "data": {
      "text/plain": [
       "<Figure size 576x432 with 0 Axes>"
      ]
     },
     "metadata": {},
     "output_type": "display_data"
    }
   ],
   "source": [
    "# Run the OP_5 histogram again (without the outliers), using df_nooutliers as the dataframe - so I can get the mean and mode.  I couldn't get them when I removed the three values from the histogram.\n",
    "# Remove the outliers > 40 minutes.  Looks like there are three of them.  Use p. 20 in text to start, maybe.\n",
    "\n",
    "df_nooutliers_OP_5 = df_nooutliers[df_nooutliers.OP_5 <= 40]\n",
    "df_nooutliers_OP_5_hist = thinkstats2.Hist(df_nooutliers_OP_5.OP_5)\n",
    "plt.title('Median Time to ECG (with three outliers removed)', fontsize=15)\n",
    "thinkplot.Hist(df_nooutliers_OP_5_hist)\n",
    "thinkplot.Show(xlabel='minutes', ylabel='count of facilities')"
   ]
  },
  {
   "cell_type": "code",
   "execution_count": 617,
   "metadata": {},
   "outputs": [
    {
     "name": "stdout",
     "output_type": "stream",
     "text": [
      "Mean is 8.030799220272904\n",
      "Mode is 0    8.0\n",
      "dtype: float64\n",
      "Standard deviation is 4.3699158942273195\n",
      "The tail extends farther to the right than left, which is an expected result in this measure in which time\n"
     ]
    }
   ],
   "source": [
    "mean_OP_5_nooutliers = df_nooutliers_OP_5.OP_5.mean()\n",
    "print('Mean is', mean_OP_5_nooutliers)\n",
    "\n",
    "mode_OP_5_nooutliers = df_nooutliers_OP_5.OP_5.mode()\n",
    "print('Mode is', mode_OP_5_nooutliers)\n",
    "\n",
    "std_OP_5_nooutliers = df_nooutliers_OP_5.OP_5.std()\n",
    "print('Standard deviation is', std_OP_5_nooutliers)\n",
    "\n",
    "print('The tail extends farther to the right than left, which is an expected result in this measure in which time')"
   ]
  },
  {
   "cell_type": "markdown",
   "metadata": {},
   "source": [
    "Maybe use this chart (with three outliers removed) to show the data, and explain that three outliers have been removed, but use the dataframe with the outliers in it for all calculations, because I can't validate that it only removed the three outliers in question.  Other rows seem to have disappeared too!"
   ]
  },
  {
   "cell_type": "code",
   "execution_count": null,
   "metadata": {
    "scrolled": true
   },
   "outputs": [],
   "source": [
    "# Checking to see if the means for any of the ED volume subsets change much when the three outliers are removed.  Nope!\n",
    "print(df_nooutliers.groupby('EDV')['OP_5'].mean())"
   ]
  },
  {
   "cell_type": "code",
   "execution_count": null,
   "metadata": {
    "scrolled": true
   },
   "outputs": [],
   "source": [
    "df_nooutliers.info()"
   ]
  },
  {
   "cell_type": "markdown",
   "metadata": {},
   "source": [
    "Nope!  This removed a couple thousand rows that I wasn't expecting it to.  AND the mean, median, and standard deviation of the OP_5 series remain nearly identical before and after trying to remove the outliers. \n",
    "So I'm going to use the OP_5 series including the three outliers."
   ]
  },
  {
   "cell_type": "code",
   "execution_count": 620,
   "metadata": {},
   "outputs": [
    {
     "data": {
      "text/plain": [
       "<seaborn.axisgrid.FacetGrid at 0x199224d2588>"
      ]
     },
     "execution_count": 620,
     "metadata": {},
     "output_type": "execute_result"
    },
    {
     "data": {
      "image/png": "[encoded data removed]",
      "text/plain": [
       "<Figure size 360x360 with 1 Axes>"
      ]
     },
     "metadata": {
      "needs_background": "light"
     },
     "output_type": "display_data"
    }
   ],
   "source": [
    "import seaborn as sns        \n",
    "sns.catplot(x='OP_2', y='EDV', kind='box', data=EDV_df)\n",
    "\n",
    "# C:\\Users\\Branch\\Anaconda3\\lib\\site-packages\\seaborn\\categorical.py:3666: UserWarning: The `factorplot` function has been \n",
    "# renamed to `catplot`. The original name will be removed in a future release. Please update your code. Note that the default \n",
    "# `kind` in `factorplot` (`'point'`) has changed `'strip'` in `catplot`. warnings.warn(msg)'''\n",
    "\n",
    "# That is interesting.  When I change 'kind' to 'strip' in my code, it errors out.\n",
    "# Why would 'very high' volumne ERs do so much better than 'high' volume ERs?  And low and medium in between the two?!\n",
    "# This suggests that I am not going to have a straight-forward \"yes/no\" answer to my hypothesis.  I need to look at the other variables."
   ]
  },
  {
   "cell_type": "markdown",
   "metadata": {},
   "source": [
    "I think this boxplot is showing me that I have one outlier in my OP_2 values, and it is in an ED with high volume.  I should take a look.  Interestingly, the single outlier is not evident at all on the OP_2 histogram (when the values are not subsetted by ED volume).  That is because that single value would not be an outlier if it were in any of the other EDs by volume. Since I do not know why the high volume EDs and very high volume EDs are the high and the low performers (with low and medium volume EDs falling in between them), I am going to keep the single outlier in the dataset.\n",
    "I'd like to reorder the variables on the y-axis in the boxplot above, in order of volume; 'very high,' 'high,' 'medium,' 'low,' and 'not available.'\n",
    "Need to add X axis (and maybe other) labels to the histograms above. Consider side-by-side histograms? https://towardsdatascience.com/histograms-and-density-plots-in-python-f6bda88f5ac0 Then work on effect size, PMFs, CDFs, ..."
   ]
  },
  {
   "cell_type": "code",
   "execution_count": 621,
   "metadata": {
    "scrolled": true
   },
   "outputs": [
    {
     "data": {
      "image/png": "[encoded data removed]",
      "text/plain": [
       "<Figure size 432x288 with 1 Axes>"
      ]
     },
     "metadata": {
      "needs_background": "light"
     },
     "output_type": "display_data"
    },
    {
     "data": {
      "text/plain": [
       "<Figure size 576x432 with 0 Axes>"
      ]
     },
     "metadata": {},
     "output_type": "display_data"
    }
   ],
   "source": [
    "hist_OP_5\n",
    "# p. 16 how to make a histogram:\n",
    "import thinkplot\n",
    "thinkplot.Hist(hist_OP_5)\n",
    "thinkplot.Show(xlabel ='value', ylabel='frequency')"
   ]
  },
  {
   "cell_type": "code",
   "execution_count": 622,
   "metadata": {},
   "outputs": [
    {
     "data": {
      "image/png": "[encoded data removed]",
      "text/plain": [
       "<Figure size 432x288 with 1 Axes>"
      ]
     },
     "metadata": {
      "needs_background": "light"
     },
     "output_type": "display_data"
    },
    {
     "data": {
      "text/plain": [
       "<Figure size 576x432 with 0 Axes>"
      ]
     },
     "metadata": {},
     "output_type": "display_data"
    }
   ],
   "source": [
    "low_cdf_OP_5 = thinkstats2.Cdf(low.EDV, label='low')\n",
    "medium_cdf_OP_5 = thinkstats2.Cdf(medium.EDV, label='medium')\n",
    "high_cdf_OP_5 = thinkstats2.Cdf(high.EDV, label='high')\n",
    "very_high_cdf_OP_5 = thinkstats2.Cdf(very_high.EDV, label='very high')\n",
    "\n",
    "# I want to make a CDF of OP_5 that includes all four ED volumes:  (from p. 44)\n",
    "low_cdf_OP_5 = thinkstats2.Cdf(low.OP_5, label = 'low')\n",
    "medium_cdf_OP_5 = thinkstats2.Cdf(medium.OP_5, label = 'medium')\n",
    "high_cdf_OP_5 = thinkstats2.Cdf(high.OP_5, label = 'high')\n",
    "very_high_cdf_OP_5 = thinkstats2.Cdf(very_high.OP_5, label = 'very high')\n",
    "thinkplot.PrePlot(4)\n",
    "thinkplot.Cdfs([low_cdf_OP_5, medium_cdf_OP_5, high_cdf_OP_5, very_high_cdf_OP_5])\n",
    "thinkplot.Show(xlabel='median time to ECG (min))', ylabel='CDF')\n",
    "\n",
    "# So it looks like EVERYONE gets that ECG done timely!  I think the expectation is 10 minutes.  (source)\n",
    "# That makes sense - no specialized equipment required and any ER RN can run one."
   ]
  },
  {
   "cell_type": "code",
   "execution_count": 623,
   "metadata": {},
   "outputs": [
    {
     "data": {
      "image/png": "[encoded data removed]",
      "text/plain": [
       "<Figure size 432x288 with 1 Axes>"
      ]
     },
     "metadata": {
      "needs_background": "light"
     },
     "output_type": "display_data"
    },
    {
     "data": {
      "text/plain": [
       "<Figure size 576x432 with 0 Axes>"
      ]
     },
     "metadata": {},
     "output_type": "display_data"
    }
   ],
   "source": [
    "# This is the count of ED's by volume.  It shows sample size.\n",
    "# I think I've created a new dataframe, ED_vol. (see p. 16-17)\n",
    "# First I need to figure out how to get a series of only the OP_5 results from low volume EDs.  (this is not it yet!)\n",
    "\n",
    "ED_vol = EDV_df[EDV_df.EDV != 'stupid way to not exclude any']\n",
    "ED_vol_hist = thinkstats2.Hist(ED_vol.EDV, label='EDV')\n",
    "thinkplot.Hist(ED_vol_hist)\n",
    "thinkplot.Show(xlabel='ED volume', ylabel='count of facilities')"
   ]
  },
  {
   "cell_type": "code",
   "execution_count": null,
   "metadata": {
    "scrolled": false
   },
   "outputs": [],
   "source": [
    "ED_vol.head()"
   ]
  },
  {
   "cell_type": "code",
   "execution_count": 625,
   "metadata": {},
   "outputs": [
    {
     "name": "stdout",
     "output_type": "stream",
     "text": [
      "<pandas.core.groupby.generic.SeriesGroupBy object at 0x000001991FB17448>\n",
      "EDV\n",
      "high         8.336336\n",
      "low          8.029686\n",
      "medium       8.060993\n",
      "very high    8.071225\n",
      "Name: OP_5, dtype: float64\n"
     ]
    }
   ],
   "source": [
    "# For each ED volume category in the data, what was the OP_5?  (p. 19 in Pandas book)\n",
    "grouped_vol_df = ED_vol.groupby('EDV')\n",
    "grouped_vol_df_OP_5 = grouped_vol_df['OP_5']\n",
    "print(grouped_vol_df_OP_5)\n",
    "#This gives me a series (because I only asked for 1 column) in which the contents of the series are grouped (by ED volume)\n",
    "# to get the mean OP_5 by ED volume:\n",
    "mean_OP_5_by_vol = grouped_vol_df_OP_5.mean()\n",
    "print(mean_OP_5_by_vol)"
   ]
  },
  {
   "cell_type": "code",
   "execution_count": null,
   "metadata": {},
   "outputs": [],
   "source": [
    "grouped_vol_df_OP_5.tail()"
   ]
  },
  {
   "cell_type": "code",
   "execution_count": 681,
   "metadata": {
    "scrolled": false
   },
   "outputs": [
    {
     "name": "stdout",
     "output_type": "stream",
     "text": [
      "Index(['EDV', 'ED_1b', 'ED_2b', 'OP_18b', 'OP_2', 'OP_22', 'OP_23', 'OP_3b',\n",
      "       'OP_5'],\n",
      "      dtype='object', name='Measure ID')\n"
     ]
    },
    {
     "data": {
      "image/png": "[encoded data removed]",
      "text/plain": [
       "<Figure size 864x432 with 2 Axes>"
      ]
     },
     "metadata": {
      "needs_background": "light"
     },
     "output_type": "display_data"
    }
   ],
   "source": [
    "# take the ED_vol and create a new df with only EDV and OP_5,\n",
    "print(ED_vol.columns)\n",
    "OP5_only_df = ED_vol.drop(['ED_1b', 'ED_2b', 'OP_18b', 'OP_2', 'OP_22', 'OP_23', 'OP_3b'], axis = 1)\n",
    "\n",
    "# then delete any OP_5s that are NaN, (from p.197 in golden-tailed tree shrew book)\n",
    "cleaned_OP5 = OP5_only_df.dropna()\n",
    "\n",
    "# create pmfs from that new df (from p. 20-21)\n",
    "lows = cleaned_OP5[cleaned_OP5.EDV == 'low']\n",
    "vhighs = cleaned_OP5[cleaned_OP5.EDV == 'very high']\n",
    "\n",
    "lows_hist = thinkstats2.Hist(lows.OP_5)\n",
    "vhighs_hist = thinkstats2.Hist(vhighs.OP_5)\n",
    "\n",
    "thinkplot.PrePlot(2, cols=2)\n",
    "thinkplot.Hist(lows_hist, align='right', width=width)\n",
    "thinkplot.Hist(vhighs_hist, align='left', width=width)\n",
    "thinkplot.Config(xlabel='Minutes', ylabel='PMF')\n",
    "\n",
    "lows_pmf = thinkstats2.Pmf(lows.OP_5, label='low')\n",
    "vhighs_pmf = thinkstats2.Pmf(vhighs.OP_5, label='very high')\n",
    "\n",
    "width = 0.45\n",
    "axis = [0, 30, 0, 0.15]\n",
    "thinkplot.PrePlot(2)\n",
    "thinkplot.SubPlot(2)\n",
    "thinkplot.Pmfs([lows_pmf, vhighs_pmf])\n",
    "thinkplot.Config(xlabel='Median ECG time (in minutes)', ylabel='PMF', axis=axis)\n",
    "\n",
    "# So you can get an ECG in under a minute at a number of very high volume ERs,but after that the low volume ERs edge ahead by about a minute.\n",
    "# Your probability of it taking greater than 10 minutes, which is industry standard, is worse at a very high volume ER.\n",
    "# Why doesn't the legend show?!"
   ]
  },
  {
   "cell_type": "code",
   "execution_count": null,
   "metadata": {},
   "outputs": [],
   "source": [
    "cleaned_OP5.head()"
   ]
  },
  {
   "cell_type": "code",
   "execution_count": null,
   "metadata": {},
   "outputs": [],
   "source": [
    "cleaned_OP5.describe()"
   ]
  },
  {
   "cell_type": "code",
   "execution_count": null,
   "metadata": {},
   "outputs": [],
   "source": [
    "cleaned_OP5.info()"
   ]
  },
  {
   "cell_type": "markdown",
   "metadata": {},
   "source": [
    "# Scatter plot of OP_3b (time to transfer out chest pain and heart attack patients) and OP_5 (median time to ECG):"
   ]
  },
  {
   "cell_type": "code",
   "execution_count": 637,
   "metadata": {},
   "outputs": [
    {
     "data": {
      "image/png": "[encoded data removed]",
      "text/plain": [
       "<Figure size 432x288 with 1 Axes>"
      ]
     },
     "metadata": {
      "needs_background": "light"
     },
     "output_type": "display_data"
    }
   ],
   "source": [
    "# from p. 79-80 in text, except I'm not choosing a random subset, I'm choosing all rows (because I can):\n",
    "OP3bs, OP5s = EDV_df.OP_3b, EDV_df.OP_5              # selecting my two variables that are measured in minutes\n",
    "\n",
    "# add jittering, using 0.5 in case they rounded the minutes?\n",
    "transfers = thinkstats2.Jitter(OP3bs, 0.5)\n",
    "ECGs = thinkstats2.Jitter(OP5s, 0.5)\n",
    "\n",
    "# add alpha=0.2 for transparency, otherwise chart saturation \"gives disproportionate emphasis to outliers\"  (p. 81 in Downey)\n",
    "thinkplot.Scatter(transfers, ECGs, alpha=0.2)\n",
    "thinkplot.Config(xlabel='transfer out heart attack & stroke (min)',\n",
    "                ylabel='time to ECG (min)',\n",
    "                axis=[0, 300, 0, 30],\n",
    "                legend=False)"
   ]
  },
  {
   "cell_type": "code",
   "execution_count": 641,
   "metadata": {},
   "outputs": [
    {
     "data": {
      "image/png": "[encoded data removed]",
      "text/plain": [
       "<Figure size 432x288 with 1 Axes>"
      ]
     },
     "metadata": {
      "needs_background": "light"
     },
     "output_type": "display_data"
    }
   ],
   "source": [
    "# same variables, different way of creating the scatter plot\n",
    "# a scatter plot comparing median time to ECG to time to transfer out chest pain and heart attack patients\n",
    "import pyodbc                 # Found this on Tutorial Gateway for a scatter plot\n",
    "import matplotlib.pyplot as plt\n",
    "\n",
    "EDV_df.plot(kind='scatter', x='OP_5', y='OP_3b', color='red')\n",
    "plt.show()"
   ]
  },
  {
   "cell_type": "code",
   "execution_count": 642,
   "metadata": {},
   "outputs": [
    {
     "data": {
      "text/plain": [
       "48.5647643499542"
      ]
     },
     "execution_count": 642,
     "metadata": {},
     "output_type": "execute_result"
    }
   ],
   "source": [
    "# Covariance definition from p. 84 in Downey text\n",
    "\n",
    "EDV_df_splot = EDV_df.dropna(subset=['OP_3b', 'OP_5'])\n",
    "OP3bs, OP5s = EDV_df_splot.OP_3b, EDV_df_splot.OP_5 \n",
    "\n",
    "def Cov(OP3bs, OP5s, meanx=None, meany=None):\n",
    "    OP3bs = np.asarray(OP3bs)\n",
    "    OP5s = np.asarray(OP5s)\n",
    "\n",
    "    if meanx is None:\n",
    "        meanx = np.mean(OP3bs)\n",
    "    if meany is None:\n",
    "        meany = np.mean(OP5s)\n",
    "\n",
    "    cov = np.dot(OP3bs-meanx, OP5s-meany) / len(OP3bs)\n",
    "    return cov\n",
    "\n",
    "Cov(OP3bs, OP5s)\n",
    "\n",
    "# returns 48.5647643499542"
   ]
  },
  {
   "cell_type": "code",
   "execution_count": 643,
   "metadata": {},
   "outputs": [
    {
     "data": {
      "text/plain": [
       "0.30298015703515135"
      ]
     },
     "execution_count": 643,
     "metadata": {},
     "output_type": "execute_result"
    }
   ],
   "source": [
    "# Pearson's Correlation from p. 85 in Downey text:\n",
    "def Corr(OP3bs, OP5s):\n",
    "    OP3bs = np.asarray(OP3bs)\n",
    "    OP5s = np.asarray(OP5s)\n",
    "\n",
    "    meanx, varx = thinkstats2.MeanVar(OP3bs)\n",
    "    meany, vary = thinkstats2.MeanVar(OP5s)\n",
    "\n",
    "    corr = Cov(OP3bs, OP5s, meanx, meany) / np.sqrt(varx * vary)\n",
    "    return corr\n",
    "\n",
    "Corr(OP3bs, OP5s)\n",
    "\n",
    "# returns 0.30298015703515135.  "
   ]
  },
  {
   "cell_type": "markdown",
   "metadata": {},
   "source": [
    "The correlation is positive.  When time to ECG is high, time to transfer out tends to be high.  "
   ]
  },
  {
   "cell_type": "markdown",
   "metadata": {},
   "source": [
    "# Conduct a test on your hypothesis using one of the methods covered in Chapter 9. \n",
    "Permutation test\n",
    "\"To compute the p-value of an observed difference in means, we can assume that there is no difference between the groups and generate simulated results by shuffling the data.\""
   ]
  },
  {
   "cell_type": "code",
   "execution_count": 683,
   "metadata": {},
   "outputs": [
    {
     "ename": "NameError",
     "evalue": "name 'highOP2' is not defined",
     "output_type": "error",
     "traceback": [
      "\u001b[1;31m---------------------------------------------------------------------------\u001b[0m",
      "\u001b[1;31mNameError\u001b[0m                                 Traceback (most recent call last)",
      "\u001b[1;32m<ipython-input-683-3aa9f63b0a37>\u001b[0m in \u001b[0;36m<module>\u001b[1;34m\u001b[0m\n\u001b[0;32m     29\u001b[0m \u001b[1;33m\u001b[0m\u001b[0m\n\u001b[0;32m     30\u001b[0m \u001b[1;32mif\u001b[0m \u001b[0m__name__\u001b[0m \u001b[1;33m==\u001b[0m \u001b[1;34m\"__main__\"\u001b[0m\u001b[1;33m:\u001b[0m\u001b[1;33m\u001b[0m\u001b[1;33m\u001b[0m\u001b[0m\n\u001b[1;32m---> 31\u001b[1;33m     \u001b[0mmain\u001b[0m\u001b[1;33m(\u001b[0m\u001b[1;33m)\u001b[0m\u001b[1;33m\u001b[0m\u001b[1;33m\u001b[0m\u001b[0m\n\u001b[0m\u001b[0;32m     32\u001b[0m \u001b[1;33m\u001b[0m\u001b[0m\n\u001b[0;32m     33\u001b[0m \u001b[1;31m# This didn't run for me.\u001b[0m\u001b[1;33m\u001b[0m\u001b[1;33m\u001b[0m\u001b[1;33m\u001b[0m\u001b[0m\n",
      "\u001b[1;32m<ipython-input-683-3aa9f63b0a37>\u001b[0m in \u001b[0;36mmain\u001b[1;34m()\u001b[0m\n\u001b[0;32m     24\u001b[0m     \u001b[1;31m# volumes, highOP2, vhighOP2 = MakeFrames()\u001b[0m\u001b[1;33m\u001b[0m\u001b[1;33m\u001b[0m\u001b[1;33m\u001b[0m\u001b[0m\n\u001b[0;32m     25\u001b[0m     \u001b[0mvolumes\u001b[0m \u001b[1;33m=\u001b[0m \u001b[0mEDV_df\u001b[0m\u001b[1;33m.\u001b[0m\u001b[0mdropna\u001b[0m\u001b[1;33m(\u001b[0m\u001b[0msubset\u001b[0m\u001b[1;33m=\u001b[0m\u001b[1;33m[\u001b[0m\u001b[1;34m'EDV'\u001b[0m\u001b[1;33m,\u001b[0m \u001b[1;34m'OP_2'\u001b[0m\u001b[1;33m]\u001b[0m\u001b[1;33m)\u001b[0m\u001b[1;33m\u001b[0m\u001b[1;33m\u001b[0m\u001b[0m\n\u001b[1;32m---> 26\u001b[1;33m     \u001b[0mdata\u001b[0m \u001b[1;33m=\u001b[0m \u001b[0mhighOP2\u001b[0m\u001b[1;33m.\u001b[0m\u001b[0mEDV\u001b[0m\u001b[1;33m.\u001b[0m\u001b[0mvalues\u001b[0m\u001b[1;33m,\u001b[0m \u001b[0mvhighOP2\u001b[0m\u001b[1;33m.\u001b[0m\u001b[0mEDV\u001b[0m\u001b[1;33m.\u001b[0m\u001b[0mvalues\u001b[0m\u001b[1;33m\u001b[0m\u001b[1;33m\u001b[0m\u001b[0m\n\u001b[0m\u001b[0;32m     27\u001b[0m     \u001b[0mht\u001b[0m \u001b[1;33m=\u001b[0m \u001b[0mCorrelationPermute\u001b[0m\u001b[1;33m(\u001b[0m\u001b[0mdata\u001b[0m\u001b[1;33m)\u001b[0m\u001b[1;33m\u001b[0m\u001b[1;33m\u001b[0m\u001b[0m\n\u001b[0;32m     28\u001b[0m     \u001b[0mpvalue\u001b[0m \u001b[1;33m=\u001b[0m \u001b[0mht\u001b[0m\u001b[1;33m.\u001b[0m\u001b[0mPValue\u001b[0m\u001b[1;33m(\u001b[0m\u001b[1;33m)\u001b[0m\u001b[1;33m\u001b[0m\u001b[1;33m\u001b[0m\u001b[0m\n",
      "\u001b[1;31mNameError\u001b[0m: name 'highOP2' is not defined"
     ]
    }
   ],
   "source": [
    "# I never did get this to work, but I wanted to use it because it made sense.\n",
    "# Testing a correlation (p. 107 in Downey text)\n",
    "# looking at OP_2, comparing means of the very high and high volume ERs (because the box plot chart shows them as different)\n",
    "\n",
    "class DiffMeansPermute(thinkstats2.HypothesisTest):\n",
    "\n",
    "    def TestStatistic(self, data):\n",
    "        highOP2, vhighOP2 = data\n",
    "        test_stat = abs(highOP2.mean() - vhighOP2.mean())\n",
    "        return test_stat\n",
    "\n",
    "    def MakeModel(self):\n",
    "        highOP2, vhighOP2 = self.data\n",
    "        self.n, self.m = len(highOP2), len(vhighOP2)\n",
    "        self.pool = np.hstack((highOP2, vhighOP2))\n",
    "\n",
    "    def RunModel(self):\n",
    "        np.random.shuffle(self.pool)\n",
    "        data = self.pool[:self.n], self.pool[self.n:]\n",
    "        return data\n",
    "        \n",
    "def main():\n",
    "    \n",
    "    # volumes, highOP2, vhighOP2 = MakeFrames()\n",
    "    volumes = EDV_df.dropna(subset=['EDV', 'OP_2'])\n",
    "    data = highOP2.EDV.values, vhighOP2.EDV.values\n",
    "    ht = CorrelationPermute(data)\n",
    "    pvalue = ht.PValue()\n",
    "    \n",
    "if __name__ == \"__main__\":\n",
    "    main()\n",
    "\n",
    "# This didn't run for me."
   ]
  },
  {
   "cell_type": "markdown",
   "metadata": {},
   "source": [
    "## Testing a Correlation"
   ]
  },
  {
   "cell_type": "code",
   "execution_count": 671,
   "metadata": {},
   "outputs": [],
   "source": [
    "# from p. 107 in Downey text:\n",
    "\n",
    "class CorrelationPermute(thinkstats2.HypothesisTest):\n",
    "\n",
    "    def TestStatistic(self, data):\n",
    "        xs, ys = data\n",
    "        test_stat = abs(thinkstats2.Corr(xs, ys))\n",
    "        return test_stat\n",
    "\n",
    "    def RunModel(self):\n",
    "        xs, ys = self.data\n",
    "        xs = np.random.permutation(xs)\n",
    "        return xs, ys"
   ]
  },
  {
   "cell_type": "code",
   "execution_count": 672,
   "metadata": {},
   "outputs": [
    {
     "data": {
      "text/plain": [
       "0.0"
      ]
     },
     "execution_count": 672,
     "metadata": {},
     "output_type": "execute_result"
    }
   ],
   "source": [
    "cleaned = EDV_df.dropna(subset=['OP_5', 'OP_3b'])\n",
    "data = cleaned.OP_5.values, cleaned.OP_3b.values\n",
    "ht = CorrelationPermute(data)\n",
    "pvalue = ht.PValue()\n",
    "pvalue\n",
    "\n",
    "# This produces a p value of 0.0, which is statistically significant and unlikely to occur by chance."
   ]
  },
  {
   "cell_type": "code",
   "execution_count": 674,
   "metadata": {},
   "outputs": [],
   "source": [
    "# Linear Least Squares (p. 118 in Downey text):\n",
    "\n",
    "import first\n",
    "cleaned_LLS = EDV_df.dropna(subset=['OP_5', 'OP_3b'])\n",
    "ECGs = cleaned_LLS.OP_5\n",
    "transfers = cleaned_LLS.OP_3b\n",
    "\n",
    "from thinkstats2 import Mean, MeanVar, Var, Std, Cov\n",
    "\n",
    "def LeastSquares(ECGs, transfers):\n",
    "    meanx, varx = MeanVar(ECGs)\n",
    "    meany = Mean(transfers)\n",
    "\n",
    "    slope = Cov(ECGs, transfers, meanx, meany) / varx\n",
    "    inter = meany - slope * meanx\n",
    "\n",
    "    return inter, slope"
   ]
  },
  {
   "cell_type": "code",
   "execution_count": 675,
   "metadata": {},
   "outputs": [
    {
     "data": {
      "text/plain": [
       "(40.219794732405106, 2.9112108148001474)"
      ]
     },
     "execution_count": 675,
     "metadata": {},
     "output_type": "execute_result"
    }
   ],
   "source": [
    "inter, slope = LeastSquares(ECGs, transfers)\n",
    "inter, slope"
   ]
  },
  {
   "cell_type": "code",
   "execution_count": 676,
   "metadata": {},
   "outputs": [
    {
     "data": {
      "text/plain": [
       "113.0000651024088"
      ]
     },
     "execution_count": 676,
     "metadata": {},
     "output_type": "execute_result"
    }
   ],
   "source": [
    "inter + slope * 25"
   ]
  },
  {
   "cell_type": "code",
   "execution_count": 678,
   "metadata": {},
   "outputs": [],
   "source": [
    "def FitLine(ECGs, inter, slope):\n",
    "    fit_xs = np.sort(ECGs)\n",
    "    fit_ys = inter + slope * fit_xs\n",
    "    return fit_xs, fit_ys\n",
    "\n",
    "fit_xs, fit_ys = FitLine(ECGs, inter, slope)"
   ]
  },
  {
   "cell_type": "code",
   "execution_count": 682,
   "metadata": {},
   "outputs": [
    {
     "data": {
      "image/png": "[encoded data removed]",
      "text/plain": [
       "<Figure size 432x288 with 1 Axes>"
      ]
     },
     "metadata": {
      "needs_background": "light"
     },
     "output_type": "display_data"
    }
   ],
   "source": [
    "thinkplot.Scatter(ECGs, transfers, color='blue', alpha=0.1, s=10)\n",
    "thinkplot.Plot(fit_xs, fit_ys, color='white', linewidth=3)\n",
    "thinkplot.Plot(fit_xs, fit_ys, color='red', linewidth=2)\n",
    "thinkplot.Config(xlabel=\"Median time to ECG (min)\",\n",
    "                 ylabel=\"Time to Transfer out (min)\",\n",
    "                 axis=[0, 40, 0, 200],\n",
    "                 legend=False)\n",
    "\n",
    "# This shows a scatter plot of time to ECG and time to transfer out, along with a fitted line.  \n",
    "# This relationship appears to be linear and seems like a good model for the relationship."
   ]
  }
 ],
 "metadata": {
  "kernelspec": {
   "display_name": "Python 3",
   "language": "python",
   "name": "python3"
  },
  "language_info": {
   "codemirror_mode": {
    "name": "ipython",
    "version": 3
   },
   "file_extension": ".py",
   "mimetype": "text/x-python",
   "name": "python",
   "nbconvert_exporter": "python",
   "pygments_lexer": "ipython3",
   "version": "3.7.4"
  }
 },
 "nbformat": 4,
 "nbformat_minor": 2
}
